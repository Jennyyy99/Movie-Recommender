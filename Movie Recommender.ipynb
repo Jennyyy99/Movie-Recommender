{
 "cells": [
  {
   "cell_type": "markdown",
   "id": "a7632a26",
   "metadata": {},
   "source": [
    "# This Project aims to Recommend the Top Movies Based on User's History"
   ]
  },
  {
   "cell_type": "markdown",
   "id": "1634e5dc",
   "metadata": {},
   "source": [
    "In this script we will use Tf-Idf vectorization in order to compute recommendations for movies a user has previously seen.\n",
    "\n",
    "First lets import our libraries and our dataframe"
   ]
  },
  {
   "cell_type": "code",
   "execution_count": 1,
   "id": "1f5db6ed",
   "metadata": {},
   "outputs": [
    {
     "data": {
      "text/html": [
       "<div>\n",
       "<style scoped>\n",
       "    .dataframe tbody tr th:only-of-type {\n",
       "        vertical-align: middle;\n",
       "    }\n",
       "\n",
       "    .dataframe tbody tr th {\n",
       "        vertical-align: top;\n",
       "    }\n",
       "\n",
       "    .dataframe thead th {\n",
       "        text-align: right;\n",
       "    }\n",
       "</style>\n",
       "<table border=\"1\" class=\"dataframe\">\n",
       "  <thead>\n",
       "    <tr style=\"text-align: right;\">\n",
       "      <th></th>\n",
       "      <th>budget</th>\n",
       "      <th>genres</th>\n",
       "      <th>homepage</th>\n",
       "      <th>id</th>\n",
       "      <th>keywords</th>\n",
       "      <th>original_language</th>\n",
       "      <th>original_title</th>\n",
       "      <th>overview</th>\n",
       "      <th>popularity</th>\n",
       "      <th>production_companies</th>\n",
       "      <th>production_countries</th>\n",
       "      <th>release_date</th>\n",
       "      <th>revenue</th>\n",
       "      <th>runtime</th>\n",
       "      <th>spoken_languages</th>\n",
       "      <th>status</th>\n",
       "      <th>tagline</th>\n",
       "      <th>title</th>\n",
       "      <th>vote_average</th>\n",
       "      <th>vote_count</th>\n",
       "    </tr>\n",
       "  </thead>\n",
       "  <tbody>\n",
       "    <tr>\n",
       "      <th>0</th>\n",
       "      <td>237000000</td>\n",
       "      <td>[{\"id\": 28, \"name\": \"Action\"}, {\"id\": 12, \"nam...</td>\n",
       "      <td>http://www.avatarmovie.com/</td>\n",
       "      <td>19995</td>\n",
       "      <td>[{\"id\": 1463, \"name\": \"culture clash\"}, {\"id\":...</td>\n",
       "      <td>en</td>\n",
       "      <td>Avatar</td>\n",
       "      <td>In the 22nd century, a paraplegic Marine is di...</td>\n",
       "      <td>150.437577</td>\n",
       "      <td>[{\"name\": \"Ingenious Film Partners\", \"id\": 289...</td>\n",
       "      <td>[{\"iso_3166_1\": \"US\", \"name\": \"United States o...</td>\n",
       "      <td>2009-12-10</td>\n",
       "      <td>2787965087</td>\n",
       "      <td>162.0</td>\n",
       "      <td>[{\"iso_639_1\": \"en\", \"name\": \"English\"}, {\"iso...</td>\n",
       "      <td>Released</td>\n",
       "      <td>Enter the World of Pandora.</td>\n",
       "      <td>Avatar</td>\n",
       "      <td>7.2</td>\n",
       "      <td>11800</td>\n",
       "    </tr>\n",
       "    <tr>\n",
       "      <th>1</th>\n",
       "      <td>300000000</td>\n",
       "      <td>[{\"id\": 12, \"name\": \"Adventure\"}, {\"id\": 14, \"...</td>\n",
       "      <td>http://disney.go.com/disneypictures/pirates/</td>\n",
       "      <td>285</td>\n",
       "      <td>[{\"id\": 270, \"name\": \"ocean\"}, {\"id\": 726, \"na...</td>\n",
       "      <td>en</td>\n",
       "      <td>Pirates of the Caribbean: At World's End</td>\n",
       "      <td>Captain Barbossa, long believed to be dead, ha...</td>\n",
       "      <td>139.082615</td>\n",
       "      <td>[{\"name\": \"Walt Disney Pictures\", \"id\": 2}, {\"...</td>\n",
       "      <td>[{\"iso_3166_1\": \"US\", \"name\": \"United States o...</td>\n",
       "      <td>2007-05-19</td>\n",
       "      <td>961000000</td>\n",
       "      <td>169.0</td>\n",
       "      <td>[{\"iso_639_1\": \"en\", \"name\": \"English\"}]</td>\n",
       "      <td>Released</td>\n",
       "      <td>At the end of the world, the adventure begins.</td>\n",
       "      <td>Pirates of the Caribbean: At World's End</td>\n",
       "      <td>6.9</td>\n",
       "      <td>4500</td>\n",
       "    </tr>\n",
       "    <tr>\n",
       "      <th>2</th>\n",
       "      <td>245000000</td>\n",
       "      <td>[{\"id\": 28, \"name\": \"Action\"}, {\"id\": 12, \"nam...</td>\n",
       "      <td>http://www.sonypictures.com/movies/spectre/</td>\n",
       "      <td>206647</td>\n",
       "      <td>[{\"id\": 470, \"name\": \"spy\"}, {\"id\": 818, \"name...</td>\n",
       "      <td>en</td>\n",
       "      <td>Spectre</td>\n",
       "      <td>A cryptic message from Bond’s past sends him o...</td>\n",
       "      <td>107.376788</td>\n",
       "      <td>[{\"name\": \"Columbia Pictures\", \"id\": 5}, {\"nam...</td>\n",
       "      <td>[{\"iso_3166_1\": \"GB\", \"name\": \"United Kingdom\"...</td>\n",
       "      <td>2015-10-26</td>\n",
       "      <td>880674609</td>\n",
       "      <td>148.0</td>\n",
       "      <td>[{\"iso_639_1\": \"fr\", \"name\": \"Fran\\u00e7ais\"},...</td>\n",
       "      <td>Released</td>\n",
       "      <td>A Plan No One Escapes</td>\n",
       "      <td>Spectre</td>\n",
       "      <td>6.3</td>\n",
       "      <td>4466</td>\n",
       "    </tr>\n",
       "    <tr>\n",
       "      <th>3</th>\n",
       "      <td>250000000</td>\n",
       "      <td>[{\"id\": 28, \"name\": \"Action\"}, {\"id\": 80, \"nam...</td>\n",
       "      <td>http://www.thedarkknightrises.com/</td>\n",
       "      <td>49026</td>\n",
       "      <td>[{\"id\": 849, \"name\": \"dc comics\"}, {\"id\": 853,...</td>\n",
       "      <td>en</td>\n",
       "      <td>The Dark Knight Rises</td>\n",
       "      <td>Following the death of District Attorney Harve...</td>\n",
       "      <td>112.312950</td>\n",
       "      <td>[{\"name\": \"Legendary Pictures\", \"id\": 923}, {\"...</td>\n",
       "      <td>[{\"iso_3166_1\": \"US\", \"name\": \"United States o...</td>\n",
       "      <td>2012-07-16</td>\n",
       "      <td>1084939099</td>\n",
       "      <td>165.0</td>\n",
       "      <td>[{\"iso_639_1\": \"en\", \"name\": \"English\"}]</td>\n",
       "      <td>Released</td>\n",
       "      <td>The Legend Ends</td>\n",
       "      <td>The Dark Knight Rises</td>\n",
       "      <td>7.6</td>\n",
       "      <td>9106</td>\n",
       "    </tr>\n",
       "    <tr>\n",
       "      <th>4</th>\n",
       "      <td>260000000</td>\n",
       "      <td>[{\"id\": 28, \"name\": \"Action\"}, {\"id\": 12, \"nam...</td>\n",
       "      <td>http://movies.disney.com/john-carter</td>\n",
       "      <td>49529</td>\n",
       "      <td>[{\"id\": 818, \"name\": \"based on novel\"}, {\"id\":...</td>\n",
       "      <td>en</td>\n",
       "      <td>John Carter</td>\n",
       "      <td>John Carter is a war-weary, former military ca...</td>\n",
       "      <td>43.926995</td>\n",
       "      <td>[{\"name\": \"Walt Disney Pictures\", \"id\": 2}]</td>\n",
       "      <td>[{\"iso_3166_1\": \"US\", \"name\": \"United States o...</td>\n",
       "      <td>2012-03-07</td>\n",
       "      <td>284139100</td>\n",
       "      <td>132.0</td>\n",
       "      <td>[{\"iso_639_1\": \"en\", \"name\": \"English\"}]</td>\n",
       "      <td>Released</td>\n",
       "      <td>Lost in our world, found in another.</td>\n",
       "      <td>John Carter</td>\n",
       "      <td>6.1</td>\n",
       "      <td>2124</td>\n",
       "    </tr>\n",
       "  </tbody>\n",
       "</table>\n",
       "</div>"
      ],
      "text/plain": [
       "      budget                                             genres  \\\n",
       "0  237000000  [{\"id\": 28, \"name\": \"Action\"}, {\"id\": 12, \"nam...   \n",
       "1  300000000  [{\"id\": 12, \"name\": \"Adventure\"}, {\"id\": 14, \"...   \n",
       "2  245000000  [{\"id\": 28, \"name\": \"Action\"}, {\"id\": 12, \"nam...   \n",
       "3  250000000  [{\"id\": 28, \"name\": \"Action\"}, {\"id\": 80, \"nam...   \n",
       "4  260000000  [{\"id\": 28, \"name\": \"Action\"}, {\"id\": 12, \"nam...   \n",
       "\n",
       "                                       homepage      id  \\\n",
       "0                   http://www.avatarmovie.com/   19995   \n",
       "1  http://disney.go.com/disneypictures/pirates/     285   \n",
       "2   http://www.sonypictures.com/movies/spectre/  206647   \n",
       "3            http://www.thedarkknightrises.com/   49026   \n",
       "4          http://movies.disney.com/john-carter   49529   \n",
       "\n",
       "                                            keywords original_language  \\\n",
       "0  [{\"id\": 1463, \"name\": \"culture clash\"}, {\"id\":...                en   \n",
       "1  [{\"id\": 270, \"name\": \"ocean\"}, {\"id\": 726, \"na...                en   \n",
       "2  [{\"id\": 470, \"name\": \"spy\"}, {\"id\": 818, \"name...                en   \n",
       "3  [{\"id\": 849, \"name\": \"dc comics\"}, {\"id\": 853,...                en   \n",
       "4  [{\"id\": 818, \"name\": \"based on novel\"}, {\"id\":...                en   \n",
       "\n",
       "                             original_title  \\\n",
       "0                                    Avatar   \n",
       "1  Pirates of the Caribbean: At World's End   \n",
       "2                                   Spectre   \n",
       "3                     The Dark Knight Rises   \n",
       "4                               John Carter   \n",
       "\n",
       "                                            overview  popularity  \\\n",
       "0  In the 22nd century, a paraplegic Marine is di...  150.437577   \n",
       "1  Captain Barbossa, long believed to be dead, ha...  139.082615   \n",
       "2  A cryptic message from Bond’s past sends him o...  107.376788   \n",
       "3  Following the death of District Attorney Harve...  112.312950   \n",
       "4  John Carter is a war-weary, former military ca...   43.926995   \n",
       "\n",
       "                                production_companies  \\\n",
       "0  [{\"name\": \"Ingenious Film Partners\", \"id\": 289...   \n",
       "1  [{\"name\": \"Walt Disney Pictures\", \"id\": 2}, {\"...   \n",
       "2  [{\"name\": \"Columbia Pictures\", \"id\": 5}, {\"nam...   \n",
       "3  [{\"name\": \"Legendary Pictures\", \"id\": 923}, {\"...   \n",
       "4        [{\"name\": \"Walt Disney Pictures\", \"id\": 2}]   \n",
       "\n",
       "                                production_countries release_date     revenue  \\\n",
       "0  [{\"iso_3166_1\": \"US\", \"name\": \"United States o...   2009-12-10  2787965087   \n",
       "1  [{\"iso_3166_1\": \"US\", \"name\": \"United States o...   2007-05-19   961000000   \n",
       "2  [{\"iso_3166_1\": \"GB\", \"name\": \"United Kingdom\"...   2015-10-26   880674609   \n",
       "3  [{\"iso_3166_1\": \"US\", \"name\": \"United States o...   2012-07-16  1084939099   \n",
       "4  [{\"iso_3166_1\": \"US\", \"name\": \"United States o...   2012-03-07   284139100   \n",
       "\n",
       "   runtime                                   spoken_languages    status  \\\n",
       "0    162.0  [{\"iso_639_1\": \"en\", \"name\": \"English\"}, {\"iso...  Released   \n",
       "1    169.0           [{\"iso_639_1\": \"en\", \"name\": \"English\"}]  Released   \n",
       "2    148.0  [{\"iso_639_1\": \"fr\", \"name\": \"Fran\\u00e7ais\"},...  Released   \n",
       "3    165.0           [{\"iso_639_1\": \"en\", \"name\": \"English\"}]  Released   \n",
       "4    132.0           [{\"iso_639_1\": \"en\", \"name\": \"English\"}]  Released   \n",
       "\n",
       "                                          tagline  \\\n",
       "0                     Enter the World of Pandora.   \n",
       "1  At the end of the world, the adventure begins.   \n",
       "2                           A Plan No One Escapes   \n",
       "3                                 The Legend Ends   \n",
       "4            Lost in our world, found in another.   \n",
       "\n",
       "                                      title  vote_average  vote_count  \n",
       "0                                    Avatar           7.2       11800  \n",
       "1  Pirates of the Caribbean: At World's End           6.9        4500  \n",
       "2                                   Spectre           6.3        4466  \n",
       "3                     The Dark Knight Rises           7.6        9106  \n",
       "4                               John Carter           6.1        2124  "
      ]
     },
     "execution_count": 1,
     "metadata": {},
     "output_type": "execute_result"
    }
   ],
   "source": [
    "import pandas as pd\n",
    "import matplotlib.pyplot as plt\n",
    "df=pd.read_csv(\"tmdb_5000_movies.csv\")\n",
    "df.head()\n",
    "from sklearn.feature_extraction.text import TfidfVectorizer\n",
    "from sklearn.metrics.pairwise import cosine_similarity, euclidean_distances\n",
    "df.head()"
   ]
  },
  {
   "cell_type": "markdown",
   "id": "8b722639",
   "metadata": {},
   "source": [
    "We notice that our genres and the keywords are Json objects containing the id and the name of a movie genre."
   ]
  },
  {
   "cell_type": "code",
   "execution_count": 2,
   "id": "e0866f68",
   "metadata": {},
   "outputs": [
    {
     "data": {
      "text/plain": [
       "[{'id': 28, 'name': 'Action'},\n",
       " {'id': 12, 'name': 'Adventure'},\n",
       " {'id': 14, 'name': 'Fantasy'},\n",
       " {'id': 878, 'name': 'Science Fiction'}]"
      ]
     },
     "execution_count": 2,
     "metadata": {},
     "output_type": "execute_result"
    }
   ],
   "source": [
    "import json\n",
    "x=df.iloc[0]\n",
    "j= json.loads(x['genres'])\n",
    "j"
   ]
  },
  {
   "cell_type": "markdown",
   "id": "d9e457da",
   "metadata": {},
   "source": [
    "Let's code a class that will take a row of the movie dataframe and turn the genre and keyword columns into a string containing all the name values seperated by a space."
   ]
  },
  {
   "cell_type": "code",
   "execution_count": 3,
   "id": "71136f22",
   "metadata": {},
   "outputs": [],
   "source": [
    "def genres_and_keywords_to_string(row):\n",
    "    genres = json.loads(row['genres'])\n",
    "    genres=' '.join(''.join(j['name'].split()) for j in genres)\n",
    "    keywords = json.loads(row['keywords'])\n",
    "    keywords=' '.join(''.join(j['name'].split()) for j in keywords)\n",
    "    return \"%s %s\"% (genres,keywords)\n",
    "    "
   ]
  },
  {
   "cell_type": "markdown",
   "id": "ef4b003e",
   "metadata": {},
   "source": [
    "We apply this class onto all rows in the movie dataframe."
   ]
  },
  {
   "cell_type": "code",
   "execution_count": 4,
   "id": "fc848f6e",
   "metadata": {},
   "outputs": [
    {
     "data": {
      "text/plain": [
       "0       Action Adventure Fantasy ScienceFiction cultur...\n",
       "1       Adventure Fantasy Action ocean drugabuse exoti...\n",
       "2       Action Adventure Crime spy basedonnovel secret...\n",
       "3       Action Crime Drama Thriller dccomics crimefigh...\n",
       "4       Action Adventure ScienceFiction basedonnovel m...\n",
       "                              ...                        \n",
       "4798    Action Crime Thriller unitedstates–mexicobarri...\n",
       "4799                                      Comedy Romance \n",
       "4800    Comedy Drama Romance TVMovie date loveatfirsts...\n",
       "4801                                                     \n",
       "4802      Documentary obsession camcorder crush dreamgirl\n",
       "Name: string, Length: 4803, dtype: object"
      ]
     },
     "execution_count": 4,
     "metadata": {},
     "output_type": "execute_result"
    }
   ],
   "source": [
    "df['string']=df.apply (genres_and_keywords_to_string, axis =1)\n",
    "df['string']"
   ]
  },
  {
   "cell_type": "markdown",
   "id": "90a137b7",
   "metadata": {},
   "source": [
    "Let's initialize our vectorizer, in this project I used Tf-Idf vectorizer in order to place emphasis on more important keywords, we also store our Tf-Idf matrix in X which will contain the score of each word (columns) in every piece of text (rows) . We limit the words in the matrix we choose 2000 as the maximum features."
   ]
  },
  {
   "cell_type": "code",
   "execution_count": 5,
   "id": "a5bd7c6d",
   "metadata": {},
   "outputs": [],
   "source": [
    "tfidf = TfidfVectorizer(max_features = 2000)\n",
    "X=tfidf.fit_transform(df['string'])"
   ]
  },
  {
   "cell_type": "code",
   "execution_count": 6,
   "id": "15ef9afb",
   "metadata": {},
   "outputs": [
    {
     "data": {
      "text/plain": [
       "<4803x2000 sparse matrix of type '<class 'numpy.float64'>'\n",
       "\twith 37285 stored elements in Compressed Sparse Row format>"
      ]
     },
     "execution_count": 6,
     "metadata": {},
     "output_type": "execute_result"
    }
   ],
   "source": [
    "X"
   ]
  },
  {
   "cell_type": "markdown",
   "id": "02f258d3",
   "metadata": {},
   "source": [
    "As we are working to identify the similarity between movies using the Cosine Similarity function. In X the movies are identified by their index, so we need to have sort of a key-value relationship between the title and the index."
   ]
  },
  {
   "cell_type": "code",
   "execution_count": 7,
   "id": "8064ff62",
   "metadata": {},
   "outputs": [],
   "source": [
    "movie2idx = pd.Series(df.index, index=df['title'])"
   ]
  },
  {
   "cell_type": "code",
   "execution_count": 8,
   "id": "05c0ddb4",
   "metadata": {},
   "outputs": [],
   "source": [
    "idx = movie2idx['Scream 3']"
   ]
  },
  {
   "cell_type": "code",
   "execution_count": 9,
   "id": "adaee083",
   "metadata": {},
   "outputs": [],
   "source": [
    "query = X[idx]"
   ]
  },
  {
   "cell_type": "code",
   "execution_count": 10,
   "id": "199c8bab",
   "metadata": {},
   "outputs": [
    {
     "data": {
      "text/plain": [
       "array([[0., 0., 0., ..., 0., 0., 0.]])"
      ]
     },
     "execution_count": 10,
     "metadata": {},
     "output_type": "execute_result"
    }
   ],
   "source": [
    "query.toarray()\n"
   ]
  },
  {
   "cell_type": "code",
   "execution_count": 23,
   "id": "07b7339f",
   "metadata": {},
   "outputs": [
    {
     "data": {
      "text/plain": [
       "array([], shape=(0, 4803), dtype=int64)"
      ]
     },
     "execution_count": 23,
     "metadata": {},
     "output_type": "execute_result"
    }
   ],
   "source": [
    "scores = cosine_similarity(query, X)\n",
    "(-scores).argsort()[1:6]"
   ]
  },
  {
   "cell_type": "markdown",
   "id": "01df17ee",
   "metadata": {},
   "source": [
    "Let's code the class that recommends the movies. It will take the title of a previously watched movie, ex : 'scream3' will identify its index, we then calculate the cosine similarity between scream3 and all the other movies, and output the titles of the top 5 movies closest to it after it has searched the dataframe for their index. Note that the if statement checks if the index is a pandas series in case there is multiple indices of the same title in which case we just grab the first one."
   ]
  },
  {
   "cell_type": "code",
   "execution_count": 12,
   "id": "0a621ab6",
   "metadata": {},
   "outputs": [],
   "source": [
    "def recommend(title):\n",
    "    idx=movie2idx[title]\n",
    "    if type(idx)==pd.Series:\n",
    "        idx=idx.iloc[0]\n",
    "    query=X[idx]\n",
    "    scores=cosine_similarity(query,X)\n",
    "    scores=scores.flatten()\n",
    "    recommend_idx=(-scores).argsort()[1:6]\n",
    "    return df['title'].iloc[recommend_idx]\n"
   ]
  },
  {
   "cell_type": "code",
   "execution_count": 13,
   "id": "fb19377f",
   "metadata": {},
   "outputs": [
    {
     "name": "stdout",
     "output_type": "stream",
     "text": [
      "706              Days of Thunder\n",
      "935          Herbie Fully Loaded\n",
      "1186       The Final Destination\n",
      "2050    The Transporter Refueled\n",
      "500             2 Fast 2 Furious\n",
      "Name: title, dtype: object\n"
     ]
    }
   ],
   "source": [
    "print(recommend('Furious 7'))\n",
    "\n"
   ]
  },
  {
   "cell_type": "code",
   "execution_count": 25,
   "id": "219ccc3a",
   "metadata": {},
   "outputs": [
    {
     "name": "stdout",
     "output_type": "stream",
     "text": [
      "1611              Mortal Kombat: Annihilation\n",
      "1670                       DOA: Dead or Alive\n",
      "3856              In the Name of the King III\n",
      "1001    Street Fighter: The Legend of Chun-Li\n",
      "2237                        Alone in the Dark\n",
      "Name: title, dtype: object\n"
     ]
    }
   ],
   "source": [
    "print(recommend('Mortal Kombat'))"
   ]
  },
  {
   "cell_type": "code",
   "execution_count": 26,
   "id": "5da250b6",
   "metadata": {},
   "outputs": [
    {
     "name": "stdout",
     "output_type": "stream",
     "text": [
      "4115                    House of D\n",
      "2325    My Big Fat Greek Wedding 2\n",
      "4604         It Happened One Night\n",
      "3313                  An Education\n",
      "2689            Our Family Wedding\n",
      "Name: title, dtype: object\n"
     ]
    }
   ],
   "source": [
    "print(recommend('Runaway Bride'))"
   ]
  },
  {
   "cell_type": "code",
   "execution_count": 28,
   "id": "0025fb51",
   "metadata": {},
   "outputs": [
    {
     "name": "stdout",
     "output_type": "stream",
     "text": [
      "276      Harry Potter and the Chamber of Secrets\n",
      "113    Harry Potter and the Order of the Phoenix\n",
      "191     Harry Potter and the Prisoner of Azkaban\n",
      "8         Harry Potter and the Half-Blood Prince\n",
      "197     Harry Potter and the Philosopher's Stone\n",
      "Name: title, dtype: object\n"
     ]
    }
   ],
   "source": [
    "print(recommend('Harry Potter and the Goblet of Fire'))"
   ]
  },
  {
   "cell_type": "code",
   "execution_count": null,
   "id": "eb7ef5da",
   "metadata": {},
   "outputs": [],
   "source": []
  }
 ],
 "metadata": {
  "kernelspec": {
   "display_name": "Python 3",
   "language": "python",
   "name": "python3"
  },
  "language_info": {
   "codemirror_mode": {
    "name": "ipython",
    "version": 3
   },
   "file_extension": ".py",
   "mimetype": "text/x-python",
   "name": "python",
   "nbconvert_exporter": "python",
   "pygments_lexer": "ipython3",
   "version": "3.8.8"
  }
 },
 "nbformat": 4,
 "nbformat_minor": 5
}
